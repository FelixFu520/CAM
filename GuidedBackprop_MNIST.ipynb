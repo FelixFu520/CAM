{
 "cells": [
  {
   "cell_type": "markdown",
   "metadata": {},
   "source": [
    "# GuidedBackprop_MNIST\n",
    "\n",
    "- Visualizing with Guided Backpropagation\n",
    "\n",
    "## 1) Import required Libraries"
   ]
  },
  {
   "cell_type": "code",
   "execution_count": 1,
   "metadata": {},
   "outputs": [],
   "source": [
    "import os\n",
    "\n",
    "os.environ[\"CUDA_VISIBLE_DEVICES\"]=\"0\"\n",
    "\n",
    "import numpy as np\n",
    "import torch\n",
    "import torch.nn as nn\n",
    "import torch.optim as optim\n",
    "import torch.nn.init as init\n",
    "import torchvision.datasets as dset\n",
    "import torchvision.transforms as transforms\n",
    "from torch.utils.data import DataLoader\n",
    "from torch.autograd import Function\n",
    "\n",
    "import matplotlib.pyplot as plt\n",
    "%matplotlib inline  \n",
    "\n",
    "import random"
   ]
  },
  {
   "cell_type": "markdown",
   "metadata": {},
   "source": [
    "## 2) Hyperparameters"
   ]
  },
  {
   "cell_type": "code",
   "execution_count": 2,
   "metadata": {},
   "outputs": [],
   "source": [
    "batch_size = 128\n",
    "learning_rate = 0.0001\n",
    "num_epoch = 10"
   ]
  },
  {
   "cell_type": "code",
   "execution_count": 3,
   "metadata": {},
   "outputs": [],
   "source": [
    "def one_sided_padding(x):\n",
    "    rand1 = random.randrange(0,15,3)\n",
    "    rand2 = random.randrange(0,15,3)\n",
    "\n",
    "    zero = np.zeros(shape=[28,28,1])\n",
    "    zero[rand1:rand1+12,rand2:rand2+12,:]=np.asarray(x).reshape(12,12,1)\n",
    "    return zero"
   ]
  },
  {
   "cell_type": "markdown",
   "metadata": {},
   "source": [
    "## 3) Dataloader"
   ]
  },
  {
   "cell_type": "code",
   "execution_count": 4,
   "metadata": {},
   "outputs": [],
   "source": [
    "mnist_train = dset.MNIST(\"./\", train=True, \n",
    "                         transform=transforms.Compose([\n",
    "                            transforms.RandomCrop(22),\n",
    "                            transforms.Resize(12),\n",
    "                            transforms.Lambda(one_sided_padding),\n",
    "                            transforms.ToTensor(),\n",
    "                         ]), \n",
    "                         target_transform=None, \n",
    "                         download=True)\n",
    "\n",
    "mnist_test = dset.MNIST(\"./\", train=False,\n",
    "                        transform=transforms.Compose([\n",
    "                            transforms.RandomCrop(22),\n",
    "                            transforms.Resize(12),\n",
    "                            transforms.Lambda(one_sided_padding),\n",
    "                            transforms.ToTensor(),\n",
    "                        ]),\n",
    "                        target_transform=None, \n",
    "                        download=True)\n",
    "\n",
    "train_loader = torch.utils.data.DataLoader(mnist_train,batch_size=batch_size, shuffle=True,num_workers=2,drop_last=True)\n",
    "test_loader = torch.utils.data.DataLoader(mnist_test,batch_size=batch_size, shuffle=True,num_workers=2,drop_last=True)"
   ]
  },
  {
   "cell_type": "markdown",
   "metadata": {},
   "source": [
    "## 4) Classification Model"
   ]
  },
  {
   "cell_type": "code",
   "execution_count": 6,
   "metadata": {},
   "outputs": [],
   "source": [
    "class CNN(nn.Module):\n",
    "    def __init__(self,num_feature=32):\n",
    "        super(CNN,self).__init__()\n",
    "        self.num_feature=num_feature\n",
    "        \n",
    "        self.layer = nn.Sequential(\n",
    "            nn.Conv2d(1,self.num_feature,3,1,1),\n",
    "            nn.BatchNorm2d(self.num_feature),\n",
    "            nn.ReLU(),\n",
    "            nn.Conv2d(self.num_feature,self.num_feature*2,3,1,1),\n",
    "            nn.BatchNorm2d(self.num_feature*2),\n",
    "            nn.ReLU(),\n",
    "            nn.AvgPool2d(2,2),\n",
    "            \n",
    "            nn.Conv2d(self.num_feature*2,self.num_feature*4,3,1,1),\n",
    "            nn.BatchNorm2d(self.num_feature*4),\n",
    "            nn.ReLU(),\n",
    "            nn.AvgPool2d(2,2),\n",
    "            \n",
    "            nn.Conv2d(self.num_feature*4,self.num_feature*8,3,1,1),\n",
    "            nn.BatchNorm2d(self.num_feature*8),\n",
    "            nn.ReLU(),\n",
    "        )\n",
    "        self.fc_layer = nn.Sequential(\n",
    "            nn.Linear(self.num_feature*8*7*7,1000),\n",
    "            nn.ReLU(),\n",
    "            nn.Linear(1000,10)\n",
    "        )       \n",
    "        \n",
    "        for m in self.modules():\n",
    "            if isinstance(m, nn.Conv2d):\n",
    "                \n",
    "                # Kaming Initialization\n",
    "                init.kaiming_normal_(m.weight.data)\n",
    "                m.bias.data.fill_(0)\n",
    "                \n",
    "            elif isinstance(m, nn.Linear):\n",
    "\n",
    "                # Kaming Initialization\n",
    "                init.kaiming_normal_(m.weight.data)\n",
    "                m.bias.data.fill_(0)\n",
    "        \n",
    "        \n",
    "    def forward(self,x):\n",
    "        out = self.layer(x)\n",
    "        out = out.view(x.size()[0],-1)\n",
    "        out = self.fc_layer(out)\n",
    "\n",
    "        return out\n",
    "\n",
    "model = nn.DataParallel(CNN().cuda())"
   ]
  },
  {
   "cell_type": "markdown",
   "metadata": {},
   "source": [
    "## 5) Loss & Optimizer"
   ]
  },
  {
   "cell_type": "code",
   "execution_count": 7,
   "metadata": {},
   "outputs": [],
   "source": [
    "loss_func = nn.CrossEntropyLoss()\n",
    "optimizer = torch.optim.Adam(model.parameters(), lr=learning_rate)"
   ]
  },
  {
   "cell_type": "markdown",
   "metadata": {},
   "source": [
    "## 6) Train"
   ]
  },
  {
   "cell_type": "code",
   "execution_count": 9,
   "metadata": {
    "scrolled": true
   },
   "outputs": [
    {
     "name": "stdout",
     "output_type": "stream",
     "text": [
      "Test Data Accuracy: [94.0004]%\n",
      "Test Data Accuracy: [95.72316]%\n",
      "Test Data Accuracy: [96.8149]%\n",
      "Test Data Accuracy: [96.88501]%\n",
      "Test Data Accuracy: [96.3141]%\n",
      "Test Data Accuracy: [97.75641]%\n",
      "Test Data Accuracy: [98.036865]%\n"
     ]
    }
   ],
   "source": [
    "for i in range(num_epoch):\n",
    "    model.train()\n",
    "    for j,[image,label] in enumerate(train_loader):\n",
    "        x = image.cuda().to(torch.float32)\n",
    "        y_= label.cuda()\n",
    "        \n",
    "        optimizer.zero_grad()\n",
    "        output = model.forward(x)\n",
    "        loss = loss_func(output,y_)\n",
    "        loss.backward()\n",
    "        optimizer.step()\n",
    "        \n",
    "         \n",
    "    top_1_count = torch.FloatTensor([0])\n",
    "    total = torch.FloatTensor([0])\n",
    "    model.eval() \n",
    "    for image,label in test_loader:\n",
    "        x = image.cuda().to(torch.float32)\n",
    "        y_= label.cuda()\n",
    "\n",
    "        output = model.forward(x)\n",
    "        \n",
    "        values,idx = output.max(dim=1)\n",
    "        top_1_count += torch.sum(y_==idx).float().cpu().data\n",
    "\n",
    "        total += label.size(0)\n",
    "\n",
    "    print(\"Test Data Accuracy: {}%\".format(100*(top_1_count/total).numpy()))\n",
    "    if (top_1_count/total).numpy() > 0.98:\n",
    "        break\n",
    "    "
   ]
  },
  {
   "cell_type": "code",
   "execution_count": 10,
   "metadata": {},
   "outputs": [],
   "source": [
    "class GuidedBackpropRelu(Function):\n",
    "    @staticmethod\n",
    "    def forward(ctx,input):\n",
    "        ctx.save_for_backward(input)\n",
    "        return input.clamp(min=0)\n",
    "    \n",
    "    @staticmethod\n",
    "    def backward(ctx,grad_output):\n",
    "        input = ctx.saved_tensors[0]\n",
    "        grad_input = grad_output.clone()\n",
    "        grad_input[grad_input<0] = 0\n",
    "        grad_input[input<0]=0\n",
    "        return grad_input\n",
    "     \n",
    "guided_relu = GuidedBackpropRelu.apply"
   ]
  },
  {
   "cell_type": "code",
   "execution_count": 11,
   "metadata": {},
   "outputs": [],
   "source": [
    "class GuidedReluModel:\n",
    "    def __init__(self,model,to_be_replaced,replace_to):\n",
    "        self.model = model\n",
    "        self.to_be_replaced = to_be_replaced\n",
    "        self.replace_to = replace_to\n",
    "        self.layers=[]\n",
    "        self.output=[]\n",
    "        \n",
    "        for m in self.model.modules():\n",
    "            if isinstance(m,self.to_be_replaced):\n",
    "                self.layers.append(self.replace_to )\n",
    "                #self.layers.append(m)\n",
    "            elif isinstance(m,nn.Conv2d):\n",
    "                self.layers.append(m)\n",
    "            elif isinstance(m,nn.BatchNorm2d):\n",
    "                self.layers.append(m)\n",
    "            elif isinstance(m,nn.Linear):\n",
    "                self.layers.append(m)\n",
    "            elif isinstance(m,nn.AvgPool2d):\n",
    "                self.layers.append(m)\n",
    "                \n",
    "        for i in self.layers:\n",
    "            print(i)\n",
    "        \n",
    "    def reset_output(self):\n",
    "        self.output = []\n",
    "    \n",
    "    def hook(self,grad):\n",
    "        out = grad[:,0,:,:].cpu().data#.numpy()\n",
    "        print(\"out_size:\",out.size())\n",
    "        self.output.append(out)\n",
    "        \n",
    "    def visualize(self,idx,origina_img):\n",
    "        grad = self.output[0][idx]\n",
    "        x = origina_img[idx].cpu().data.numpy()[0]\n",
    "        \n",
    "        plt.subplot(1,2,1)\n",
    "        plt.imshow(grad,cmap=\"gray\")\n",
    "        plt.subplot(1,2,2)\n",
    "        plt.imshow(x,cmap=\"gray\")\n",
    "        plt.show()\n",
    "        \n",
    "    def forward(self,x):\n",
    "        out = x \n",
    "        out.register_hook(self.hook)\n",
    "        for i in self.layers[:-3]:\n",
    "            out = i(out)\n",
    "        out = out.view(out.size()[0],-1)\n",
    "        for j in self.layers[-3:]:\n",
    "            out = j(out)\n",
    "        return out\n",
    "        \n",
    "        "
   ]
  },
  {
   "cell_type": "code",
   "execution_count": 12,
   "metadata": {
    "scrolled": false
   },
   "outputs": [
    {
     "name": "stdout",
     "output_type": "stream",
     "text": [
      "Conv2d(1, 32, kernel_size=(3, 3), stride=(1, 1), padding=(1, 1))\n",
      "BatchNorm2d(32, eps=1e-05, momentum=0.1, affine=True, track_running_stats=True)\n",
      "<built-in method apply of FunctionMeta object at 0x76b4f938>\n",
      "Conv2d(32, 64, kernel_size=(3, 3), stride=(1, 1), padding=(1, 1))\n",
      "BatchNorm2d(64, eps=1e-05, momentum=0.1, affine=True, track_running_stats=True)\n",
      "<built-in method apply of FunctionMeta object at 0x76b4f938>\n",
      "AvgPool2d(kernel_size=2, stride=2, padding=0)\n",
      "Conv2d(64, 128, kernel_size=(3, 3), stride=(1, 1), padding=(1, 1))\n",
      "BatchNorm2d(128, eps=1e-05, momentum=0.1, affine=True, track_running_stats=True)\n",
      "<built-in method apply of FunctionMeta object at 0x76b4f938>\n",
      "AvgPool2d(kernel_size=2, stride=2, padding=0)\n",
      "Conv2d(128, 256, kernel_size=(3, 3), stride=(1, 1), padding=(1, 1))\n",
      "BatchNorm2d(256, eps=1e-05, momentum=0.1, affine=True, track_running_stats=True)\n",
      "<built-in method apply of FunctionMeta object at 0x76b4f938>\n",
      "Linear(in_features=12544, out_features=1000, bias=True)\n",
      "<built-in method apply of FunctionMeta object at 0x76b4f938>\n",
      "Linear(in_features=1000, out_features=10, bias=True)\n"
     ]
    }
   ],
   "source": [
    "guide = GuidedReluModel(model,nn.ReLU,guided_relu)"
   ]
  },
  {
   "cell_type": "code",
   "execution_count": 16,
   "metadata": {
    "scrolled": false
   },
   "outputs": [
    {
     "name": "stdout",
     "output_type": "stream",
     "text": [
      "out_size: torch.Size([128, 28, 28])\n"
     ]
    },
    {
     "data": {
      "image/png": "[encoded data removed]",
      "text/plain": [
       "<Figure size 432x288 with 2 Axes>"
      ]
     },
     "metadata": {
      "needs_background": "light"
     },
     "output_type": "display_data"
    },
    {
     "data": {
      "image/png": "[encoded data removed]",
      "text/plain": [
       "<Figure size 432x288 with 2 Axes>"
      ]
     },
     "metadata": {
      "needs_background": "light"
     },
     "output_type": "display_data"
    },
    {
     "data": {
      "image/png": "[encoded data removed]",
      "text/plain": [
       "<Figure size 432x288 with 2 Axes>"
      ]
     },
     "metadata": {
      "needs_background": "light"
     },
     "output_type": "display_data"
    },
    {
     "data": {
      "image/png": "[encoded data removed]",
      "text/plain": [
       "<Figure size 432x288 with 2 Axes>"
      ]
     },
     "metadata": {
      "needs_background": "light"
     },
     "output_type": "display_data"
    },
    {
     "data": {
      "image/png": "[encoded data removed]",
      "text/plain": [
       "<Figure size 432x288 with 2 Axes>"
      ]
     },
     "metadata": {
      "needs_background": "light"
     },
     "output_type": "display_data"
    },
    {
     "data": {
      "image/png": "[encoded data removed]",
      "text/plain": [
       "<Figure size 432x288 with 2 Axes>"
      ]
     },
     "metadata": {
      "needs_background": "light"
     },
     "output_type": "display_data"
    },
    {
     "data": {
      "image/png": "[encoded data removed]",
      "text/plain": [
       "<Figure size 432x288 with 2 Axes>"
      ]
     },
     "metadata": {
      "needs_background": "light"
     },
     "output_type": "display_data"
    },
    {
     "data": {
      "image/png": "[encoded data removed]",
      "text/plain": [
       "<Figure size 432x288 with 2 Axes>"
      ]
     },
     "metadata": {
      "needs_background": "light"
     },
     "output_type": "display_data"
    },
    {
     "data": {
      "image/png": "[encoded data removed]",
      "text/plain": [
       "<Figure size 432x288 with 2 Axes>"
      ]
     },
     "metadata": {
      "needs_background": "light"
     },
     "output_type": "display_data"
    },
    {
     "data": {
      "image/png": "[encoded data removed]",
      "text/plain": [
       "<Figure size 432x288 with 2 Axes>"
      ]
     },
     "metadata": {
      "needs_background": "light"
     },
     "output_type": "display_data"
    }
   ],
   "source": [
    "guide.reset_output()\n",
    "for image,label in test_loader:\n",
    "    x = image.requires_grad_(True).cuda().to(torch.float32)\n",
    "    y_= label.cuda()\n",
    "        \n",
    "    output = guide.forward(x)  \n",
    "    output = torch.sum(output)\n",
    "    \n",
    "    output.backward()\n",
    "    for idx in range(10):\n",
    "        guide.visualize(idx,x)\n",
    "    \n",
    "    break"
   ]
  },
  {
   "cell_type": "code",
   "execution_count": null,
   "metadata": {},
   "outputs": [],
   "source": []
  }
 ],
 "metadata": {
  "kernelspec": {
   "display_name": "Python 3",
   "language": "python",
   "name": "python3"
  },
  "language_info": {
   "codemirror_mode": {
    "name": "ipython",
    "version": 3
   },
   "file_extension": ".py",
   "mimetype": "text/x-python",
   "name": "python",
   "nbconvert_exporter": "python",
   "pygments_lexer": "ipython3",
   "version": "3.5.2"
  }
 },
 "nbformat": 4,
 "nbformat_minor": 2
}
